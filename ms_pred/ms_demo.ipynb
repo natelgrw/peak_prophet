{
  "cells": [
    {
      "cell_type": "markdown",
      "metadata": {},
      "source": [
        "# MS mzML Analysis Demo\n",
        "\n",
        "This notebook demonstrates mass spectrometry analysis utilities in `ms_pred/decode_ms.py`:\n",
        "\n",
        "- Load `.mzML`\n",
        "- Extract and plot TIC and BPC\n",
        "- Extract and plot a spectrum near a target retention time"
      ]
    },
    {
      "cell_type": "code",
      "execution_count": null,
      "metadata": {},
      "outputs": [],
      "source": [
        "# Imports and setup\n",
        "from ms_pred.decode_ms import load_run, extract_tic, extract_bpc, get_spectrum_at_rt, plot_tic, plot_bpc, plot_spectrum\n",
        "\n",
        "MZML_PATH = \"/Users/nathanleung/Documents/Programming/Research Projects/peak_prophet/data_raw/F8.mzML\"\n",
        "TARGET_RT_MIN = 5.0  # adjust as desired"
      ]
    },
    {
      "cell_type": "code",
      "execution_count": null,
      "metadata": {},
      "outputs": [],
      "source": [
        "# Load run and extract TIC\n",
        "run = load_run(MZML_PATH)\n",
        "tic = extract_tic(run)\n",
        "fig_tic = plot_tic(tic)"
      ]
    },
    {
      "cell_type": "code",
      "execution_count": null,
      "metadata": {},
      "outputs": [],
      "source": [
        "# Extract BPC (need a fresh iterator)\n",
        "run = load_run(MZML_PATH)\n",
        "bpc = extract_bpc(run)\n",
        "fig_bpc = plot_bpc(bpc)"
      ]
    },
    {
      "cell_type": "code",
      "execution_count": null,
      "metadata": {},
      "outputs": [],
      "source": [
        "# Plot a spectrum near a target retention time\n",
        "run = load_run(MZML_PATH)\n",
        "mz, inten, actual_rt = get_spectrum_at_rt(run, TARGET_RT_MIN, tolerance=0.2)\n",
        "fig_spec = plot_spectrum(mz, inten, title=(f\"Spectrum near {actual_rt:.2f} min\" if actual_rt else \"Spectrum\"))"
      ]
    }
  ],
  "metadata": {
    "language_info": {
      "name": "python"
    }
  },
  "nbformat": 4,
  "nbformat_minor": 2
}
