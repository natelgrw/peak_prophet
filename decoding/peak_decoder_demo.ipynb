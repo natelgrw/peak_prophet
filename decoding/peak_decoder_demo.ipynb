{
  "cells": [
    {
      "cell_type": "markdown",
      "metadata": {},
      "source": [
        "# MOCCA2 Peak Decoder Demo\n",
        "\n",
        "This notebook shows how to use `decoding/peak_decoder.py` with MOCCA2 to:\n",
        "\n",
        "- Load an LC-UV-vis dataset (`F8.mzML`)\n",
        "- Find and deconvolve peaks\n",
        "- Extract peak times and areas\n",
        "- Compute peak apexes and lambda max\n",
        "- Visualize 1D chromatogram, 2D heatmap, and apex spectra\n"
      ]
    },
    {
      "cell_type": "code",
      "execution_count": null,
      "metadata": {},
      "outputs": [],
      "source": [
        "# Imports and setup\n",
        "from decoding.peak_decoder import MoccaPeakDecoder\n",
        "\n",
        "RAW_PATH = \"/Users/nathanleung/Documents/Programming/Research Projects/peak_prophet/data_raw/F8.mzML\"\n",
        "\n",
        "# Create decoder; optionally set wavelength or time range\n",
        "decoder = MoccaPeakDecoder(\n",
        "    file_path=RAW_PATH,\n",
        "    rxn_type=\"demo\",\n",
        "    reactants=[\"CC(=O)OC(C)=O\"],\n",
        "    solvents=[\"CCO\"],\n",
        "    wavelength=(200, 600)\n",
        "    method=\"flatfit\",\n",
        "    time=(0, 20)\n",
        ")\n",
        "\n",
        "decoder\n"
      ]
    },
    {
      "cell_type": "code",
      "execution_count": null,
      "metadata": {},
      "outputs": [],
      "source": [
        "# Find and deconvolve peaks\n",
        "# Adjust parameters as needed for your data quality\n",
        "peaks = decoder.get_peaks(\n",
        "    deconvolve_algo='FraserSuzuki',\n",
        "    min_deconvolve_r2=0.98,\n",
        "    concentration_relax=True,\n",
        "    max_num_peaks=5,\n",
        "    contraction_algo='mean',\n",
        "    min_h=10.0,\n",
        "    min_time=None,\n",
        "    max_time=None,\n",
        ")"
      ]
    },
    {
      "cell_type": "code",
      "execution_count": null,
      "metadata": {},
      "outputs": [],
      "source": [
        "# Peak metrics\n",
        "peak_times = decoder.get_peak_times()\n",
        "peak_areas = decoder.get_peak_areas()\n",
        "maxima = decoder.get_maxima()\n",
        "lam_max = decoder.get_lambda_max()"
      ]
    },
    {
      "cell_type": "code",
      "execution_count": null,
      "metadata": {},
      "outputs": [],
      "source": [
        "# Summary dictionary\n",
        "summary = decoder.get_summary()"
      ]
    },
    {
      "cell_type": "code",
      "execution_count": null,
      "metadata": {},
      "outputs": [],
      "source": [
        "# Plots\n",
        "%matplotlib inline\n",
        "\n",
        "decoder.plot_chromatogram_1d(show_peaks=True)\n",
        "decoder.plot_chromatogram_2d()\n",
        "decoder.plot_lambda_absorption(max_traces=5)\n"
      ]
    }
  ],
  "metadata": {
    "language_info": {
      "name": "python"
    }
  },
  "nbformat": 4,
  "nbformat_minor": 2
}
