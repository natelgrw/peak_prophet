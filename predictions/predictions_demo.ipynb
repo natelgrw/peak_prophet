{
  "cells": [
    {
      "cell_type": "markdown",
      "metadata": {},
      "source": [
        "# Predictions Demo\n",
        "\n",
        "This notebook demonstrates end-to-end usage of the prediction utilities:\n",
        "\n",
        "- Create a `ChemicalReaction` with reactants and solvent\n",
        "- Fetch products from ASKCOS\n",
        "- Predict retention times (rtpred.ca)\n",
        "- Predict lambda max values (chemprop in conda env)\n",
        "\n"
      ]
    },
    {
      "cell_type": "code",
      "execution_count": null,
      "metadata": {},
      "outputs": [],
      "source": [
        "# Setup imports\n",
        "from predictions.rxn_classes import ChemicalReaction\n",
        "\n",
        "# Input reaction\n",
        "reactants = [\"CC(=O)OC(C)=O\"]\n",
        "solvent = \"CCO\"\n",
        "\n",
        "# Create reaction\n",
        "rxn = ChemicalReaction(reactants=reactants, solvents=solvent)\n"
      ]
    },
    {
      "cell_type": "code",
      "execution_count": null,
      "metadata": {},
      "outputs": [],
      "source": [
        "# Fetch products from ASKCOS (synchronous wrapper)\n",
        "# Note: This will launch a headless browser and can take time.\n",
        "products = rxn.fetch_products_from_askcos_sync()\n",
        "\n"
      ]
    },
    {
      "cell_type": "code",
      "execution_count": null,
      "metadata": {},
      "outputs": [],
      "source": [
        "# Predict retention times for current products (synchronous wrapper)\n",
        "rxn.predict_products_retention_times_sync()\n"
      ]
    },
    {
      "cell_type": "code",
      "execution_count": null,
      "metadata": {},
      "outputs": [],
      "source": [
        "# Predict lambda max for products (uses conda run -n uvvismlenv)\n",
        "rxn.predict_products_lambda_max(conda_env=\"uvvismlenv\")\n"
      ]
    },
    {
      "cell_type": "code",
      "execution_count": null,
      "metadata": {},
      "outputs": [],
      "source": [
        "# Display results\n",
        "import pandas as pd\n",
        "\n",
        "data = [\n",
        "    {\n",
        "        \"smiles\": p.get_smiles(),\n",
        "        \"probability\": p.get_probability(),\n",
        "        \"mol_weight\": p.get_mol_weight(),\n",
        "        \"retention_time\": p.get_retention_time(),\n",
        "        \"lambda_max\": p.get_lambda_max(),\n",
        "    }\n",
        "    for p in rxn.get_products()\n",
        "]\n",
        "\n",
        "pd.DataFrame(data)\n"
      ]
    }
  ],
  "metadata": {
    "language_info": {
      "name": "python"
    }
  },
  "nbformat": 4,
  "nbformat_minor": 2
}
