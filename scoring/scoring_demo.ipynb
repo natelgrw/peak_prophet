{
  "cells": [
    {
      "cell_type": "markdown",
      "metadata": {},
      "source": [
        "# Scoring Demo\n",
        "\n",
        "This notebook demonstrates how to use the scoring utilities:\n",
        "\n",
        "- Mass spec similarity (cosine with m/z tolerance)\n",
        "- Retention time similarity (Gaussian)\n",
        "- Lambda max similarity (Gaussian)\n",
        "- Aggregate score matrix and optimal assignment\n"
      ]
    },
    {
      "cell_type": "code",
      "execution_count": null,
      "metadata": {},
      "outputs": [],
      "source": [
        "# Imports\n",
        "import numpy as np\n",
        "from scoring.score_ms import cosine_similarity_aligned\n",
        "from scoring.score_rt import gaussian_rt_score\n",
        "from scoring.score_lmax import gaussian_lmax_score\n",
        "from scoring.score_aggregate import build_score_matrix, optimal_assignment\n"
      ]
    },
    {
      "cell_type": "code",
      "execution_count": null,
      "metadata": {},
      "outputs": [],
      "source": [
        "# Example predicted and observed spectra\n",
        "pred_mz = np.array([100.0, 150.0, 200.0, 250.0])\n",
        "pred_i  = np.array([10, 80, 50, 20])\n",
        "obs_mz  = np.array([100.01, 150.0, 199.99, 260.0])\n",
        "obs_i   = np.array([12, 70, 55, 10])\n",
        "\n",
        "ms_score = cosine_similarity_aligned(pred_mz, pred_i, obs_mz, obs_i, mz_tol=0.05)\n"
      ]
    },
    {
      "cell_type": "code",
      "execution_count": null,
      "metadata": {},
      "outputs": [],
      "source": [
        "# RT and lambda max examples\n",
        "rt_pred, rt_obs = 5.2, 5.0\n",
        "lmax_pred, lmax_obs = 320.0, 315.0\n",
        "\n",
        "rt_score = gaussian_rt_score(rt_pred, rt_obs, sigma=0.5)\n",
        "lm_score = gaussian_lmax_score(lmax_pred, lmax_obs, sigma=15.0)"
      ]
    },
    {
      "cell_type": "code",
      "execution_count": null,
      "metadata": {},
      "outputs": [],
      "source": [
        "# Aggregate matrix and optimal assignment\n",
        "preds = [\n",
        "    {\"mz\": pred_mz, \"intensity\": pred_i, \"rt\": 5.2, \"lmax\": 320.0},\n",
        "    {\"mz\": pred_mz + 5, \"intensity\": pred_i[::-1], \"rt\": 6.5, \"lmax\": 290.0},\n",
        "]\n",
        "obs = [\n",
        "    {\"mz\": obs_mz, \"intensity\": obs_i, \"rt\": 5.0, \"lmax\": 315.0},\n",
        "    {\"mz\": obs_mz + 5, \"intensity\": obs_i[::-1], \"rt\": 6.4, \"lmax\": 292.0},\n",
        "]\n",
        "\n",
        "S = build_score_matrix(preds, obs, weights={\"ms\":0.5, \"rt\":0.3, \"lmax\":0.2})\n"
      ]
    },
    {
      "cell_type": "code",
      "execution_count": null,
      "metadata": {},
      "outputs": [],
      "source": [
        "# Compute optimal assignment\n",
        "rows, cols, total = optimal_assignment(S)"
      ]
    }
  ],
  "metadata": {
    "language_info": {
      "name": "python"
    }
  },
  "nbformat": 4,
  "nbformat_minor": 2
}
